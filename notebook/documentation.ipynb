{
 "cells": [
  {
   "cell_type": "markdown",
   "metadata": {},
   "source": [
    "# Documentation - Climate Change in France Visualisation\n"
   ]
  },
  {
   "cell_type": "code",
   "execution_count": 1,
   "metadata": {},
   "outputs": [],
   "source": [
    "# Libraries\n",
    "import pandas as pd\n",
    "import requests\n",
    "from zipfile import ZipFile\n",
    "from pathlib import Path\n"
   ]
  },
  {
   "cell_type": "markdown",
   "metadata": {},
   "source": [
    "## 1. Data Acquisition\n"
   ]
  },
  {
   "cell_type": "markdown",
   "metadata": {},
   "source": [
    "### 1.1. Données changement climatique - Longues Séries Homogénéisées\n",
    "\n",
    "[Source Page](https://www.data.gouv.fr/en/datasets/donnees-changement-climatique-lsh-longues-series-homogeneisees/#/resources)\n",
    "\n",
    "Variables:\n",
    "\n",
    "- TN: Température minimale/Minimal temperature\n",
    "- TX: Température maximale/Maximal temperature\n",
    "- RR: Précipitations/Precipitation\n",
    "- IN: Insolation/Sunshine duration\n"
   ]
  },
  {
   "cell_type": "code",
   "execution_count": 2,
   "metadata": {},
   "outputs": [],
   "source": [
    "LSH_SOURCES = {\n",
    "    \"IN\": {\n",
    "        \"dataset\": \"https://www.data.gouv.fr/fr/datasets/r/01d6666c-85f5-4369-8090-dd08246639be\",\n",
    "        \"list\": \"https://www.data.gouv.fr/fr/datasets/r/69822f51-14bc-4538-b713-b62d51f32fee\",\n",
    "    },\n",
    "    \"RR\": {\n",
    "        \"dataset\": \"https://www.data.gouv.fr/fr/datasets/r/76fd5cf2-d936-47ca-b7a5-a4b6cc081963\",\n",
    "        \"list\": \"https://www.data.gouv.fr/fr/datasets/r/4aa508b1-d7a8-48c4-a8de-6e76b8641cf6\",\n",
    "    },\n",
    "    \"TN\": {\n",
    "        \"dataset\": \"https://www.data.gouv.fr/fr/datasets/r/f42d8312-1b56-4685-81a7-43f3fd3e12e9\",\n",
    "        \"list\": \"https://www.data.gouv.fr/fr/datasets/r/e2fb0be7-1d32-4f44-944d-e97e5961ce5d\",\n",
    "    },\n",
    "    \"TX\": {\n",
    "        \"dataset\": \"https://www.data.gouv.fr/fr/datasets/r/6c47e287-d1d0-4430-9f1a-c0d4f06e77c3\",\n",
    "        \"list\": \"https://www.data.gouv.fr/fr/datasets/r/f6382e83-c207-4e33-b413-4d6acbb08bf4\",\n",
    "    },\n",
    "}\n"
   ]
  },
  {
   "cell_type": "code",
   "execution_count": 3,
   "metadata": {},
   "outputs": [],
   "source": [
    "DATA_DIR = Path(\"../data\")\n",
    "RAW_DIR = DATA_DIR / \"raw\"\n",
    "if not RAW_DIR.exists():\n",
    "    RAW_DIR.mkdir(parents=True)\n"
   ]
  },
  {
   "cell_type": "code",
   "execution_count": 4,
   "metadata": {},
   "outputs": [],
   "source": [
    "LSH_DIR = RAW_DIR / \"LSH\"\n",
    "LSH_ZIP_DIR = LSH_DIR / \"zip\"\n",
    "if not LSH_ZIP_DIR.exists():\n",
    "    LSH_ZIP_DIR.mkdir(parents=True)\n",
    "\n",
    "for k, v in LSH_SOURCES.items():\n",
    "    # Create directory\n",
    "    dir_name = k\n",
    "\n",
    "    dataset_dir = LSH_DIR / dir_name\n",
    "    dataset_list_dir = LSH_DIR / \"list\"\n",
    "    if not dataset_list_dir.exists():\n",
    "        dataset_list_dir.mkdir()\n",
    "    if dataset_dir.exists():\n",
    "        continue\n",
    "    dataset_dir.mkdir()\n",
    "\n",
    "    # Download datasets\n",
    "    url = v[\"dataset\"]\n",
    "    r = requests.get(url)\n",
    "    with open(LSH_ZIP_DIR / f\"{k}.zip\", \"wb\") as f:\n",
    "        f.write(r.content)\n",
    "    # Unzip\n",
    "    with ZipFile(LSH_ZIP_DIR / f\"{k}.zip\", \"r\") as zip_ref:\n",
    "        zip_ref.extractall(dataset_dir)\n",
    "\n",
    "    # Download list\n",
    "    url = v[\"list\"]\n",
    "    r = requests.get(url)\n",
    "    with open(dataset_list_dir / f\"list_{k}.csv\", \"wb\") as f:\n",
    "        f.write(r.content)\n"
   ]
  },
  {
   "cell_type": "markdown",
   "metadata": {},
   "source": [
    "### 1.2 Metadata on Meterological Stations\n",
    "\n",
    "[Source Page](https://www.data.gouv.fr/en/datasets/informations-sur-les-stations-metadonnees/)\n"
   ]
  },
  {
   "cell_type": "code",
   "execution_count": 5,
   "metadata": {},
   "outputs": [],
   "source": [
    "METADATA_DIR = RAW_DIR / \"metadata\"\n",
    "if not METADATA_DIR.exists():\n",
    "    METADATA_DIR.mkdir(parents=True)\n",
    "\n",
    "METADATA_SOURCE = (\n",
    "    \"https://www.data.gouv.fr/fr/datasets/r/1fe544d8-4615-4642-a307-5956a7d90922\"\n",
    ")\n",
    "\n",
    "r = requests.get(METADATA_SOURCE)\n",
    "with open(METADATA_DIR / \"metadata.geojson\", \"wb\") as f:\n",
    "    f.write(r.content)\n"
   ]
  },
  {
   "cell_type": "markdown",
   "metadata": {},
   "source": [
    "### 1.3 Department Shapes\n",
    "\n",
    "[Source Page](https://france-geojson.gregoiredavid.fr/)\n"
   ]
  },
  {
   "cell_type": "code",
   "execution_count": 6,
   "metadata": {},
   "outputs": [],
   "source": [
    "DEP_DIR = RAW_DIR / \"departments_shape\"\n",
    "if not DEP_DIR.exists():\n",
    "    DEP_DIR.mkdir(parents=True)\n",
    "\n",
    "DEP_SOURCE = \"https://france-geojson.gregoiredavid.fr/repo/departements.geojson\"\n",
    "\n",
    "r = requests.get(DEP_SOURCE)\n",
    "with open(DEP_DIR / \"departments.geojson\", \"wb\") as f:\n",
    "    f.write(r.content)\n"
   ]
  },
  {
   "cell_type": "markdown",
   "metadata": {},
   "source": [
    "## 2. Data Transformation\n"
   ]
  },
  {
   "cell_type": "code",
   "execution_count": 7,
   "metadata": {},
   "outputs": [],
   "source": [
    "PROCESSED_DIR = DATA_DIR / \"processed\"\n",
    "if not PROCESSED_DIR.exists():\n",
    "    PROCESSED_DIR.mkdir(parents=True)\n"
   ]
  },
  {
   "cell_type": "markdown",
   "metadata": {},
   "source": [
    "### 2.1 Extract all stations and their metadata\n"
   ]
  },
  {
   "cell_type": "code",
   "execution_count": 8,
   "metadata": {},
   "outputs": [
    {
     "data": {
      "text/html": [
       "<div>\n",
       "<style scoped>\n",
       "    .dataframe tbody tr th:only-of-type {\n",
       "        vertical-align: middle;\n",
       "    }\n",
       "\n",
       "    .dataframe tbody tr th {\n",
       "        vertical-align: top;\n",
       "    }\n",
       "\n",
       "    .dataframe thead th {\n",
       "        text-align: right;\n",
       "    }\n",
       "</style>\n",
       "<table border=\"1\" class=\"dataframe\">\n",
       "  <thead>\n",
       "    <tr style=\"text-align: right;\">\n",
       "      <th></th>\n",
       "      <th>station_id</th>\n",
       "      <th>station_name</th>\n",
       "      <th>department_id</th>\n",
       "      <th>altitude</th>\n",
       "      <th>latitude</th>\n",
       "      <th>longitude</th>\n",
       "      <th>city</th>\n",
       "    </tr>\n",
       "  </thead>\n",
       "  <tbody>\n",
       "    <tr>\n",
       "      <th>0</th>\n",
       "      <td>1014002</td>\n",
       "      <td>ARBENT</td>\n",
       "      <td>1</td>\n",
       "      <td>534</td>\n",
       "      <td>46.278167</td>\n",
       "      <td>5.669000</td>\n",
       "      <td>ARBENT</td>\n",
       "    </tr>\n",
       "    <tr>\n",
       "      <th>1</th>\n",
       "      <td>1027003</td>\n",
       "      <td>BALAN_AERO</td>\n",
       "      <td>1</td>\n",
       "      <td>196</td>\n",
       "      <td>45.833000</td>\n",
       "      <td>5.106667</td>\n",
       "      <td>BALAN</td>\n",
       "    </tr>\n",
       "    <tr>\n",
       "      <th>2</th>\n",
       "      <td>1028001</td>\n",
       "      <td>BANEINS</td>\n",
       "      <td>1</td>\n",
       "      <td>243</td>\n",
       "      <td>46.122000</td>\n",
       "      <td>4.904500</td>\n",
       "      <td>BANEINS</td>\n",
       "    </tr>\n",
       "    <tr>\n",
       "      <th>3</th>\n",
       "      <td>1033002</td>\n",
       "      <td>BELLEGARDE</td>\n",
       "      <td>1</td>\n",
       "      <td>350</td>\n",
       "      <td>46.086500</td>\n",
       "      <td>5.814167</td>\n",
       "      <td>VALSERHONE</td>\n",
       "    </tr>\n",
       "    <tr>\n",
       "      <th>4</th>\n",
       "      <td>1034004</td>\n",
       "      <td>BELLEY</td>\n",
       "      <td>1</td>\n",
       "      <td>330</td>\n",
       "      <td>45.769333</td>\n",
       "      <td>5.688000</td>\n",
       "      <td>BELLEY</td>\n",
       "    </tr>\n",
       "  </tbody>\n",
       "</table>\n",
       "</div>"
      ],
      "text/plain": [
       "   station_id station_name  department_id  altitude   latitude  longitude  \\\n",
       "0     1014002       ARBENT              1       534  46.278167   5.669000   \n",
       "1     1027003   BALAN_AERO              1       196  45.833000   5.106667   \n",
       "2     1028001      BANEINS              1       243  46.122000   4.904500   \n",
       "3     1033002   BELLEGARDE              1       350  46.086500   5.814167   \n",
       "4     1034004       BELLEY              1       330  45.769333   5.688000   \n",
       "\n",
       "         city  \n",
       "0      ARBENT  \n",
       "1       BALAN  \n",
       "2     BANEINS  \n",
       "3  VALSERHONE  \n",
       "4      BELLEY  "
      ]
     },
     "execution_count": 8,
     "metadata": {},
     "output_type": "execute_result"
    }
   ],
   "source": [
    "import json\n",
    "\n",
    "with open(\"../data/raw/metadata/metadata.geojson\", \"r\") as f:\n",
    "    station_metadata = json.load(f)\n",
    "\n",
    "station_metadata = pd.json_normalize(\n",
    "    [v for _, v in station_metadata[\"features\"].items()]\n",
    ")\n",
    "station_metadata_variables = {\n",
    "    \"properties.NUM_POSTE\": \"station_id\",\n",
    "    \"properties.NOM_USUEL\": \"station_name\",\n",
    "    \"properties.NUM_DEP\": \"department_id\",\n",
    "    \"properties.ALTI\": \"altitude\",\n",
    "    \"properties.LAT_DG\": \"latitude\",\n",
    "    \"properties.LON_DG\": \"longitude\",\n",
    "    \"properties.COMMUNE\": \"city\",\n",
    "}\n",
    "station_metadata = station_metadata[station_metadata_variables.keys()]\n",
    "station_metadata = station_metadata.rename(columns=station_metadata_variables)\n",
    "station_metadata[\"station_id\"] = station_metadata[\"station_id\"].astype(int)\n",
    "station_metadata.to_csv(PROCESSED_DIR / \"station_metadata.csv\", index=False)\n",
    "station_metadata.head()\n"
   ]
  },
  {
   "cell_type": "markdown",
   "metadata": {},
   "source": [
    "### 2.2 Time Series Aggregation\n"
   ]
  },
  {
   "cell_type": "code",
   "execution_count": 9,
   "metadata": {},
   "outputs": [],
   "source": [
    "list_IN = pd.read_csv(\"../data/raw/LSH/list/list_IN.csv\", sep=\";\", header=2)\n",
    "list_RR = pd.read_csv(\"../data/raw/LSH/list/list_RR.csv\", sep=\";\", header=2)\n",
    "list_TN = pd.read_csv(\"../data/raw/LSH/list/list_TN.csv\", sep=\";\", header=2)\n",
    "list_TX = pd.read_csv(\"../data/raw/LSH/list/list_TX.csv\", sep=\";\", header=2)\n",
    "\n",
    "\n",
    "def filter_df_list(df: pd.DataFrame, name: str) -> pd.DataFrame:\n",
    "    df = df.copy()\n",
    "    col_to_keep = [\"nom_fichier\", \"num_poste\"]\n",
    "    df = df[col_to_keep]\n",
    "    df.rename(\n",
    "        columns={\"nom_fichier\": \"file_name\", \"num_poste\": \"station_id\"}, inplace=True\n",
    "    )\n",
    "    df[\"variable\"] = name\n",
    "    return df\n",
    "\n",
    "\n",
    "list_IN = filter_df_list(list_IN, \"IN\")\n",
    "list_RR = filter_df_list(list_RR, \"RR\")\n",
    "list_TN = filter_df_list(list_TN, \"TN\")\n",
    "list_TX = filter_df_list(list_TX, \"TX\")\n"
   ]
  },
  {
   "cell_type": "code",
   "execution_count": 10,
   "metadata": {},
   "outputs": [
    {
     "data": {
      "text/html": [
       "<div>\n",
       "<style scoped>\n",
       "    .dataframe tbody tr th:only-of-type {\n",
       "        vertical-align: middle;\n",
       "    }\n",
       "\n",
       "    .dataframe tbody tr th {\n",
       "        vertical-align: top;\n",
       "    }\n",
       "\n",
       "    .dataframe thead th {\n",
       "        text-align: right;\n",
       "    }\n",
       "</style>\n",
       "<table border=\"1\" class=\"dataframe\">\n",
       "  <thead>\n",
       "    <tr style=\"text-align: right;\">\n",
       "      <th></th>\n",
       "      <th>station_id</th>\n",
       "      <th>variable</th>\n",
       "      <th>file_name</th>\n",
       "    </tr>\n",
       "  </thead>\n",
       "  <tbody>\n",
       "    <tr>\n",
       "      <th>0</th>\n",
       "      <td>6088001</td>\n",
       "      <td>IN</td>\n",
       "      <td>SH_MIN006088001.csv</td>\n",
       "    </tr>\n",
       "    <tr>\n",
       "      <th>1</th>\n",
       "      <td>13054001</td>\n",
       "      <td>IN</td>\n",
       "      <td>SH_MIN113054001.csv</td>\n",
       "    </tr>\n",
       "    <tr>\n",
       "      <th>2</th>\n",
       "      <td>16089001</td>\n",
       "      <td>IN</td>\n",
       "      <td>SH_MIN016089001.csv</td>\n",
       "    </tr>\n",
       "    <tr>\n",
       "      <th>3</th>\n",
       "      <td>18033001</td>\n",
       "      <td>IN</td>\n",
       "      <td>SH_MIN018033001.csv</td>\n",
       "    </tr>\n",
       "    <tr>\n",
       "      <th>4</th>\n",
       "      <td>21473001</td>\n",
       "      <td>IN</td>\n",
       "      <td>SH_MIN021473001.csv</td>\n",
       "    </tr>\n",
       "    <tr>\n",
       "      <th>...</th>\n",
       "      <td>...</td>\n",
       "      <td>...</td>\n",
       "      <td>...</td>\n",
       "    </tr>\n",
       "    <tr>\n",
       "      <th>1493</th>\n",
       "      <td>91103001</td>\n",
       "      <td>TX</td>\n",
       "      <td>SH_MTX291103001.csv</td>\n",
       "    </tr>\n",
       "    <tr>\n",
       "      <th>1494</th>\n",
       "      <td>91184001</td>\n",
       "      <td>TX</td>\n",
       "      <td>SH_MTX091184001.csv</td>\n",
       "    </tr>\n",
       "    <tr>\n",
       "      <th>1495</th>\n",
       "      <td>94068001</td>\n",
       "      <td>TX</td>\n",
       "      <td>SH_MTX394068001.csv</td>\n",
       "    </tr>\n",
       "    <tr>\n",
       "      <th>1496</th>\n",
       "      <td>95078001</td>\n",
       "      <td>TX</td>\n",
       "      <td>SH_MTX295078001.csv</td>\n",
       "    </tr>\n",
       "    <tr>\n",
       "      <th>1497</th>\n",
       "      <td>95088001</td>\n",
       "      <td>TX</td>\n",
       "      <td>SH_MTX395088001.csv</td>\n",
       "    </tr>\n",
       "  </tbody>\n",
       "</table>\n",
       "<p>1498 rows × 3 columns</p>\n",
       "</div>"
      ],
      "text/plain": [
       "      station_id variable            file_name\n",
       "0        6088001       IN  SH_MIN006088001.csv\n",
       "1       13054001       IN  SH_MIN113054001.csv\n",
       "2       16089001       IN  SH_MIN016089001.csv\n",
       "3       18033001       IN  SH_MIN018033001.csv\n",
       "4       21473001       IN  SH_MIN021473001.csv\n",
       "...          ...      ...                  ...\n",
       "1493    91103001       TX  SH_MTX291103001.csv\n",
       "1494    91184001       TX  SH_MTX091184001.csv\n",
       "1495    94068001       TX  SH_MTX394068001.csv\n",
       "1496    95078001       TX  SH_MTX295078001.csv\n",
       "1497    95088001       TX  SH_MTX395088001.csv\n",
       "\n",
       "[1498 rows x 3 columns]"
      ]
     },
     "execution_count": 10,
     "metadata": {},
     "output_type": "execute_result"
    }
   ],
   "source": [
    "df_list = pd.concat([list_IN, list_RR, list_TN, list_TX])\n",
    "df_list = df_list[[\"station_id\", \"variable\", \"file_name\"]]\n",
    "df_list = df_list.reset_index()\n",
    "df_list.drop(\"index\", axis=1, inplace=True)\n",
    "\n",
    "df_list.to_csv(PROCESSED_DIR / \"aggregated_list.csv\", index=True)\n",
    "df_list\n"
   ]
  },
  {
   "cell_type": "code",
   "execution_count": 11,
   "metadata": {},
   "outputs": [],
   "source": [
    "def process_list_row(row: pd.Series) -> pd.DataFrame:\n",
    "    station_id = row[\"station_id\"]\n",
    "    variable = row[\"variable\"]\n",
    "    file_name = row[\"file_name\"]\n",
    "\n",
    "    if variable == \"IN\":\n",
    "        header = 11\n",
    "    else:\n",
    "        header = 12\n",
    "\n",
    "    df = pd.read_csv(LSH_DIR / variable / file_name, sep=\";\", header=header)\n",
    "    df = df[[\"YYYYMM\", \"VALEUR\"]]\n",
    "    df.columns = [\"timestamp\", \"value\"]\n",
    "    df[\"station_id\"] = station_id\n",
    "    df[\"variable\"] = variable\n",
    "\n",
    "    return df\n"
   ]
  },
  {
   "cell_type": "code",
   "execution_count": 12,
   "metadata": {},
   "outputs": [
    {
     "name": "stderr",
     "output_type": "stream",
     "text": [
      "/tmp/ipykernel_74079/3857595774.py:4: FutureWarning: The behavior of DataFrame concatenation with empty or all-NA entries is deprecated. In a future version, this will no longer exclude empty or all-NA columns when determining the result dtypes. To retain the old behavior, exclude the relevant entries before the concat operation.\n",
      "  df = pd.concat([df, row_df], ignore_index=True)\n"
     ]
    },
    {
     "data": {
      "text/html": [
       "<div>\n",
       "<style scoped>\n",
       "    .dataframe tbody tr th:only-of-type {\n",
       "        vertical-align: middle;\n",
       "    }\n",
       "\n",
       "    .dataframe tbody tr th {\n",
       "        vertical-align: top;\n",
       "    }\n",
       "\n",
       "    .dataframe thead th {\n",
       "        text-align: right;\n",
       "    }\n",
       "</style>\n",
       "<table border=\"1\" class=\"dataframe\">\n",
       "  <thead>\n",
       "    <tr style=\"text-align: right;\">\n",
       "      <th></th>\n",
       "      <th>timestamp</th>\n",
       "      <th>value</th>\n",
       "      <th>station_id</th>\n",
       "      <th>variable</th>\n",
       "    </tr>\n",
       "  </thead>\n",
       "  <tbody>\n",
       "    <tr>\n",
       "      <th>0</th>\n",
       "      <td>193101</td>\n",
       "      <td>164.6</td>\n",
       "      <td>6088001</td>\n",
       "      <td>IN</td>\n",
       "    </tr>\n",
       "    <tr>\n",
       "      <th>1</th>\n",
       "      <td>193102</td>\n",
       "      <td>160.9</td>\n",
       "      <td>6088001</td>\n",
       "      <td>IN</td>\n",
       "    </tr>\n",
       "    <tr>\n",
       "      <th>2</th>\n",
       "      <td>193103</td>\n",
       "      <td>120.9</td>\n",
       "      <td>6088001</td>\n",
       "      <td>IN</td>\n",
       "    </tr>\n",
       "    <tr>\n",
       "      <th>3</th>\n",
       "      <td>193104</td>\n",
       "      <td>256.6</td>\n",
       "      <td>6088001</td>\n",
       "      <td>IN</td>\n",
       "    </tr>\n",
       "    <tr>\n",
       "      <th>4</th>\n",
       "      <td>193105</td>\n",
       "      <td>289.7</td>\n",
       "      <td>6088001</td>\n",
       "      <td>IN</td>\n",
       "    </tr>\n",
       "  </tbody>\n",
       "</table>\n",
       "</div>"
      ],
      "text/plain": [
       "  timestamp  value station_id variable\n",
       "0    193101  164.6    6088001       IN\n",
       "1    193102  160.9    6088001       IN\n",
       "2    193103  120.9    6088001       IN\n",
       "3    193104  256.6    6088001       IN\n",
       "4    193105  289.7    6088001       IN"
      ]
     },
     "execution_count": 12,
     "metadata": {},
     "output_type": "execute_result"
    }
   ],
   "source": [
    "measurements = pd.DataFrame(columns=[\"timestamp\", \"value\", \"station_id\", \"variable\"])\n",
    "for row in df_list.iterrows():\n",
    "    row_df = process_list_row(row[1])\n",
    "    measurements = pd.concat([measurements, row_df], ignore_index=True)\n",
    "measurements.head()\n"
   ]
  },
  {
   "cell_type": "code",
   "execution_count": 13,
   "metadata": {},
   "outputs": [
    {
     "data": {
      "text/html": [
       "<div>\n",
       "<style scoped>\n",
       "    .dataframe tbody tr th:only-of-type {\n",
       "        vertical-align: middle;\n",
       "    }\n",
       "\n",
       "    .dataframe tbody tr th {\n",
       "        vertical-align: top;\n",
       "    }\n",
       "\n",
       "    .dataframe thead th {\n",
       "        text-align: right;\n",
       "    }\n",
       "</style>\n",
       "<table border=\"1\" class=\"dataframe\">\n",
       "  <thead>\n",
       "    <tr style=\"text-align: right;\">\n",
       "      <th></th>\n",
       "      <th>timestamp</th>\n",
       "      <th>station_id</th>\n",
       "      <th>variable</th>\n",
       "      <th>value</th>\n",
       "    </tr>\n",
       "  </thead>\n",
       "  <tbody>\n",
       "    <tr>\n",
       "      <th>0</th>\n",
       "      <td>1931-01-01</td>\n",
       "      <td>6088001</td>\n",
       "      <td>IN</td>\n",
       "      <td>164.6</td>\n",
       "    </tr>\n",
       "    <tr>\n",
       "      <th>1008</th>\n",
       "      <td>1931-01-01</td>\n",
       "      <td>13054001</td>\n",
       "      <td>IN</td>\n",
       "      <td>135.1</td>\n",
       "    </tr>\n",
       "    <tr>\n",
       "      <th>2016</th>\n",
       "      <td>1931-01-01</td>\n",
       "      <td>16089001</td>\n",
       "      <td>IN</td>\n",
       "      <td>74.3</td>\n",
       "    </tr>\n",
       "    <tr>\n",
       "      <th>3024</th>\n",
       "      <td>1931-01-01</td>\n",
       "      <td>18033001</td>\n",
       "      <td>IN</td>\n",
       "      <td>62.1</td>\n",
       "    </tr>\n",
       "    <tr>\n",
       "      <th>4032</th>\n",
       "      <td>1931-01-01</td>\n",
       "      <td>21473001</td>\n",
       "      <td>IN</td>\n",
       "      <td>77.3</td>\n",
       "    </tr>\n",
       "    <tr>\n",
       "      <th>...</th>\n",
       "      <td>...</td>\n",
       "      <td>...</td>\n",
       "      <td>...</td>\n",
       "      <td>...</td>\n",
       "    </tr>\n",
       "    <tr>\n",
       "      <th>1031800</th>\n",
       "      <td>2022-12-01</td>\n",
       "      <td>95078001</td>\n",
       "      <td>TN</td>\n",
       "      <td>2.2</td>\n",
       "    </tr>\n",
       "    <tr>\n",
       "      <th>1261227</th>\n",
       "      <td>2022-12-01</td>\n",
       "      <td>95078001</td>\n",
       "      <td>TX</td>\n",
       "      <td>7.3</td>\n",
       "    </tr>\n",
       "    <tr>\n",
       "      <th>812927</th>\n",
       "      <td>2022-12-01</td>\n",
       "      <td>95088001</td>\n",
       "      <td>RR</td>\n",
       "      <td>55.4</td>\n",
       "    </tr>\n",
       "    <tr>\n",
       "      <th>1032640</th>\n",
       "      <td>2022-12-01</td>\n",
       "      <td>95088001</td>\n",
       "      <td>TN</td>\n",
       "      <td>2.9</td>\n",
       "    </tr>\n",
       "    <tr>\n",
       "      <th>1262067</th>\n",
       "      <td>2022-12-01</td>\n",
       "      <td>95088001</td>\n",
       "      <td>TX</td>\n",
       "      <td>7.6</td>\n",
       "    </tr>\n",
       "  </tbody>\n",
       "</table>\n",
       "<p>1262068 rows × 4 columns</p>\n",
       "</div>"
      ],
      "text/plain": [
       "         timestamp station_id variable  value\n",
       "0       1931-01-01    6088001       IN  164.6\n",
       "1008    1931-01-01   13054001       IN  135.1\n",
       "2016    1931-01-01   16089001       IN   74.3\n",
       "3024    1931-01-01   18033001       IN   62.1\n",
       "4032    1931-01-01   21473001       IN   77.3\n",
       "...            ...        ...      ...    ...\n",
       "1031800 2022-12-01   95078001       TN    2.2\n",
       "1261227 2022-12-01   95078001       TX    7.3\n",
       "812927  2022-12-01   95088001       RR   55.4\n",
       "1032640 2022-12-01   95088001       TN    2.9\n",
       "1262067 2022-12-01   95088001       TX    7.6\n",
       "\n",
       "[1262068 rows x 4 columns]"
      ]
     },
     "execution_count": 13,
     "metadata": {},
     "output_type": "execute_result"
    }
   ],
   "source": [
    "measurements = measurements[[\"timestamp\", \"station_id\", \"variable\", \"value\"]]\n",
    "measurements = measurements.sort_values([\"timestamp\", \"station_id\", \"variable\"])\n",
    "measurements[\"timestamp\"] = pd.to_datetime(measurements[\"timestamp\"], format=\"%Y%m\")\n",
    "measurements[\"station_id\"] = measurements[\"station_id\"].astype(str)\n",
    "measurements\n"
   ]
  },
  {
   "cell_type": "markdown",
   "metadata": {},
   "source": [
    "### 2.3 Store data to a SQLite instance\n"
   ]
  },
  {
   "cell_type": "code",
   "execution_count": 14,
   "metadata": {},
   "outputs": [
    {
     "data": {
      "text/plain": [
       "2394"
      ]
     },
     "execution_count": 14,
     "metadata": {},
     "output_type": "execute_result"
    }
   ],
   "source": [
    "import sqlite3\n",
    "\n",
    "if (DATA_DIR / \"data.db\").exists():\n",
    "    (DATA_DIR / \"data.db\").unlink()\n",
    "\n",
    "conn = sqlite3.connect(DATA_DIR / \"data.db\")\n",
    "measurements.to_sql(\n",
    "    \"measurements\", conn, if_exists=\"fail\", index=True, index_label=\"id\"\n",
    ")\n",
    "station_metadata.to_sql(\n",
    "    \"stations\", conn, if_exists=\"fail\", index=True, index_label=\"id\"\n",
    ")\n"
   ]
  },
  {
   "cell_type": "markdown",
   "metadata": {},
   "source": [
    "### 3. Miscellaneous\n"
   ]
  },
  {
   "cell_type": "markdown",
   "metadata": {},
   "source": [
    "### 3.1 Mismatch between `measurements` and `station_metdata`\n"
   ]
  },
  {
   "cell_type": "code",
   "execution_count": 40,
   "metadata": {},
   "outputs": [],
   "source": [
    "stations_in_measurements = set(measurements[\"station_id\"].unique().astype(str))\n",
    "stations_in_metadata = set(station_metadata[\"station_id\"].unique().astype(str))\n"
   ]
  },
  {
   "cell_type": "markdown",
   "metadata": {},
   "source": [
    "There are 51 stations in LSH dataset, amongst 993 stations, that do not have metadata information from the `station_metadata` dataset.\n"
   ]
  },
  {
   "cell_type": "code",
   "execution_count": 42,
   "metadata": {},
   "outputs": [
    {
     "data": {
      "text/plain": [
       "51"
      ]
     },
     "metadata": {},
     "output_type": "display_data"
    },
    {
     "data": {
      "text/plain": [
       "{'11388001',\n",
       " '12036002',\n",
       " '12116002',\n",
       " '12294003',\n",
       " '13099001',\n",
       " '19157001',\n",
       " '25170001',\n",
       " '25621001',\n",
       " '26059001',\n",
       " '26211001',\n",
       " '30153003',\n",
       " '30212002',\n",
       " '34233001',\n",
       " '34284001',\n",
       " '38006001',\n",
       " '38082001',\n",
       " '38442001',\n",
       " '39240001',\n",
       " '4088001',\n",
       " '42042001',\n",
       " '48014003',\n",
       " '48019004',\n",
       " '48036001',\n",
       " '48045001',\n",
       " '48087002',\n",
       " '48126001',\n",
       " '48140005',\n",
       " '48145005',\n",
       " '5004001',\n",
       " '5013003',\n",
       " '5027001',\n",
       " '5032002',\n",
       " '5063001',\n",
       " '51009001',\n",
       " '5110001',\n",
       " '5127001',\n",
       " '64157001',\n",
       " '65031005',\n",
       " '65032003',\n",
       " '65123007',\n",
       " '71010004',\n",
       " '7119001',\n",
       " '7129001',\n",
       " '7186001',\n",
       " '73232001',\n",
       " '74081002',\n",
       " '74289001',\n",
       " '84007002',\n",
       " '9029004',\n",
       " '9100004',\n",
       " '9306003'}"
      ]
     },
     "metadata": {},
     "output_type": "display_data"
    }
   ],
   "source": [
    "missing_stations = stations_in_measurements - stations_in_metadata\n",
    "display(len(missing_stations))\n",
    "display(missing_stations)\n"
   ]
  },
  {
   "cell_type": "code",
   "execution_count": null,
   "metadata": {},
   "outputs": [],
   "source": []
  }
 ],
 "metadata": {
  "kernelspec": {
   "display_name": "ccif-d3js-YnkgViM3-py3.11",
   "language": "python",
   "name": "python3"
  },
  "language_info": {
   "codemirror_mode": {
    "name": "ipython",
    "version": 3
   },
   "file_extension": ".py",
   "mimetype": "text/x-python",
   "name": "python",
   "nbconvert_exporter": "python",
   "pygments_lexer": "ipython3",
   "version": "3.11.8"
  }
 },
 "nbformat": 4,
 "nbformat_minor": 2
}
